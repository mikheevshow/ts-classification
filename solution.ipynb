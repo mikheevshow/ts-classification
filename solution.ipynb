{
 "cells": [
  {
   "cell_type": "code",
   "execution_count": 2,
   "metadata": {},
   "outputs": [],
   "source": [
    "import pandas as pd\n",
    "\n",
    "import matplotlib.pyplot as plt\n",
    "\n",
    "import seaborn as sns"
   ]
  },
  {
   "cell_type": "markdown",
   "metadata": {},
   "source": []
  },
  {
   "cell_type": "code",
   "execution_count": 3,
   "metadata": {},
   "outputs": [],
   "source": [
    "train_df = pd.read_parquet('train.parquet')\n",
    "test_df = pd.read_parquet('test.parquet')"
   ]
  },
  {
   "cell_type": "code",
   "execution_count": 4,
   "metadata": {},
   "outputs": [
    {
     "data": {
      "text/html": [
       "<div>\n",
       "<style scoped>\n",
       "    .dataframe tbody tr th:only-of-type {\n",
       "        vertical-align: middle;\n",
       "    }\n",
       "\n",
       "    .dataframe tbody tr th {\n",
       "        vertical-align: top;\n",
       "    }\n",
       "\n",
       "    .dataframe thead th {\n",
       "        text-align: right;\n",
       "    }\n",
       "</style>\n",
       "<table border=\"1\" class=\"dataframe\">\n",
       "  <thead>\n",
       "    <tr style=\"text-align: right;\">\n",
       "      <th></th>\n",
       "      <th>id</th>\n",
       "      <th>dates</th>\n",
       "      <th>values</th>\n",
       "      <th>label</th>\n",
       "    </tr>\n",
       "  </thead>\n",
       "  <tbody>\n",
       "    <tr>\n",
       "      <th>0</th>\n",
       "      <td>19114</td>\n",
       "      <td>[2016-01-01, 2016-02-01, 2016-03-01, 2016-04-0...</td>\n",
       "      <td>[-1.86, 0.79, 1.4, 0.15, 0.0, -1.24, -1.46, 3....</td>\n",
       "      <td>0.0</td>\n",
       "    </tr>\n",
       "    <tr>\n",
       "      <th>1</th>\n",
       "      <td>22769</td>\n",
       "      <td>[2016-05-01, 2016-06-01, 2016-07-01, 2016-08-0...</td>\n",
       "      <td>[-1.04, -3.48, 0.05, -0.13, -0.01, 0.03, 0.27,...</td>\n",
       "      <td>1.0</td>\n",
       "    </tr>\n",
       "    <tr>\n",
       "      <th>2</th>\n",
       "      <td>76935</td>\n",
       "      <td>[2017-03-01, 2017-04-01, 2017-05-01, 2017-06-0...</td>\n",
       "      <td>[0.28, 0.63, 0.06, 0.96, -1.4, -0.3, 1.62, 1.1...</td>\n",
       "      <td>0.0</td>\n",
       "    </tr>\n",
       "    <tr>\n",
       "      <th>3</th>\n",
       "      <td>66297</td>\n",
       "      <td>[2016-01-01, 2016-02-01, 2016-03-01, 2016-04-0...</td>\n",
       "      <td>[-0.33, 0.58, 1.1, -0.56, -0.95, -0.61, -0.7, ...</td>\n",
       "      <td>0.0</td>\n",
       "    </tr>\n",
       "    <tr>\n",
       "      <th>4</th>\n",
       "      <td>2191</td>\n",
       "      <td>[2016-01-01, 2016-02-01, 2016-03-01, 2016-04-0...</td>\n",
       "      <td>[1.31, 0.5, -0.54, 0.95, 0.65, 0.83, -1.55, -0...</td>\n",
       "      <td>0.0</td>\n",
       "    </tr>\n",
       "    <tr>\n",
       "      <th>...</th>\n",
       "      <td>...</td>\n",
       "      <td>...</td>\n",
       "      <td>...</td>\n",
       "      <td>...</td>\n",
       "    </tr>\n",
       "    <tr>\n",
       "      <th>79995</th>\n",
       "      <td>71474</td>\n",
       "      <td>[2018-10-01, 2018-11-01, 2018-12-01, 2019-01-0...</td>\n",
       "      <td>[-0.15, -1.13, -0.87, 0.49, 0.87, 1.67, 1.91, ...</td>\n",
       "      <td>0.0</td>\n",
       "    </tr>\n",
       "    <tr>\n",
       "      <th>79996</th>\n",
       "      <td>36908</td>\n",
       "      <td>[2016-07-01, 2016-08-01, 2016-09-01, 2016-10-0...</td>\n",
       "      <td>[-0.35, -1.31, 0.11, 1.46, 1.28, 1.12, 1.78, 1...</td>\n",
       "      <td>1.0</td>\n",
       "    </tr>\n",
       "    <tr>\n",
       "      <th>79997</th>\n",
       "      <td>63517</td>\n",
       "      <td>[2016-03-01, 2016-04-01, 2016-05-01, 2016-06-0...</td>\n",
       "      <td>[-0.78, -2.27, -1.85, -0.67, -1.2, -2.02, 0.12...</td>\n",
       "      <td>0.0</td>\n",
       "    </tr>\n",
       "    <tr>\n",
       "      <th>79998</th>\n",
       "      <td>94731</td>\n",
       "      <td>[2016-02-01, 2016-03-01, 2016-04-01, 2016-05-0...</td>\n",
       "      <td>[-2.29, -2.85, 0.92, -0.83, -1.75, -1.81, -2.2...</td>\n",
       "      <td>0.0</td>\n",
       "    </tr>\n",
       "    <tr>\n",
       "      <th>79999</th>\n",
       "      <td>98870</td>\n",
       "      <td>[2016-01-01, 2016-02-01, 2016-03-01, 2016-04-0...</td>\n",
       "      <td>[0.12, -0.8, 1.62, 0.11, -0.38, -0.86, -0.85, ...</td>\n",
       "      <td>1.0</td>\n",
       "    </tr>\n",
       "  </tbody>\n",
       "</table>\n",
       "<p>80000 rows × 4 columns</p>\n",
       "</div>"
      ],
      "text/plain": [
       "          id                                              dates  \\\n",
       "0      19114  [2016-01-01, 2016-02-01, 2016-03-01, 2016-04-0...   \n",
       "1      22769  [2016-05-01, 2016-06-01, 2016-07-01, 2016-08-0...   \n",
       "2      76935  [2017-03-01, 2017-04-01, 2017-05-01, 2017-06-0...   \n",
       "3      66297  [2016-01-01, 2016-02-01, 2016-03-01, 2016-04-0...   \n",
       "4       2191  [2016-01-01, 2016-02-01, 2016-03-01, 2016-04-0...   \n",
       "...      ...                                                ...   \n",
       "79995  71474  [2018-10-01, 2018-11-01, 2018-12-01, 2019-01-0...   \n",
       "79996  36908  [2016-07-01, 2016-08-01, 2016-09-01, 2016-10-0...   \n",
       "79997  63517  [2016-03-01, 2016-04-01, 2016-05-01, 2016-06-0...   \n",
       "79998  94731  [2016-02-01, 2016-03-01, 2016-04-01, 2016-05-0...   \n",
       "79999  98870  [2016-01-01, 2016-02-01, 2016-03-01, 2016-04-0...   \n",
       "\n",
       "                                                  values  label  \n",
       "0      [-1.86, 0.79, 1.4, 0.15, 0.0, -1.24, -1.46, 3....    0.0  \n",
       "1      [-1.04, -3.48, 0.05, -0.13, -0.01, 0.03, 0.27,...    1.0  \n",
       "2      [0.28, 0.63, 0.06, 0.96, -1.4, -0.3, 1.62, 1.1...    0.0  \n",
       "3      [-0.33, 0.58, 1.1, -0.56, -0.95, -0.61, -0.7, ...    0.0  \n",
       "4      [1.31, 0.5, -0.54, 0.95, 0.65, 0.83, -1.55, -0...    0.0  \n",
       "...                                                  ...    ...  \n",
       "79995  [-0.15, -1.13, -0.87, 0.49, 0.87, 1.67, 1.91, ...    0.0  \n",
       "79996  [-0.35, -1.31, 0.11, 1.46, 1.28, 1.12, 1.78, 1...    1.0  \n",
       "79997  [-0.78, -2.27, -1.85, -0.67, -1.2, -2.02, 0.12...    0.0  \n",
       "79998  [-2.29, -2.85, 0.92, -0.83, -1.75, -1.81, -2.2...    0.0  \n",
       "79999  [0.12, -0.8, 1.62, 0.11, -0.38, -0.86, -0.85, ...    1.0  \n",
       "\n",
       "[80000 rows x 4 columns]"
      ]
     },
     "execution_count": 4,
     "metadata": {},
     "output_type": "execute_result"
    }
   ],
   "source": [
    "train_df"
   ]
  },
  {
   "cell_type": "code",
   "execution_count": 5,
   "metadata": {},
   "outputs": [],
   "source": [
    "train_df['ts_start_date'] = train_df['dates'].apply(lambda ts_dates: ts_dates[0])"
   ]
  },
  {
   "cell_type": "code",
   "execution_count": 6,
   "metadata": {},
   "outputs": [],
   "source": [
    "test_df['ts_start_date'] = test_df['dates'].apply(lambda ts_dates: ts_dates[0])"
   ]
  },
  {
   "cell_type": "code",
   "execution_count": null,
   "metadata": {},
   "outputs": [],
   "source": []
  },
  {
   "cell_type": "code",
   "execution_count": 7,
   "metadata": {},
   "outputs": [
    {
     "data": {
      "image/png": "[encoded data removed]",
      "text/plain": [
       "<Figure size 640x480 with 1 Axes>"
      ]
     },
     "metadata": {},
     "output_type": "display_data"
    }
   ],
   "source": [
    "# Группируем данные по date и label, подсчитываем количество\n",
    "grouped = train_df.groupby(['ts_start_date', 'label']).size().unstack(fill_value=0)\n",
    "\n",
    "# Строим график\n",
    "grouped.plot(kind='bar', stacked=True)\n",
    "\n",
    "plt.xlabel('Date')\n",
    "plt.ylabel('Count')\n",
    "plt.title('Label distribution by Date')\n",
    "plt.xticks(rotation=45)\n",
    "plt.tight_layout()  # Чтобы подогнать разметку\n",
    "plt.show()"
   ]
  },
  {
   "cell_type": "code",
   "execution_count": 8,
   "metadata": {},
   "outputs": [],
   "source": [
    "f_class = train_df[train_df['label'] == 0]\n",
    "s_class = train_df[train_df['label'] == 1]"
   ]
  },
  {
   "cell_type": "code",
   "execution_count": 9,
   "metadata": {},
   "outputs": [],
   "source": [
    "f_values = []\n",
    "for i, row in f_class.iterrows():\n",
    "    for i in row['values']:\n",
    "        f_values.append(i)"
   ]
  },
  {
   "cell_type": "code",
   "execution_count": 10,
   "metadata": {},
   "outputs": [],
   "source": [
    "s_values = []\n",
    "for i, row in s_class.iterrows():\n",
    "    for i in row['values']:\n",
    "        s_values.append(i)"
   ]
  },
  {
   "cell_type": "code",
   "execution_count": 11,
   "metadata": {},
   "outputs": [],
   "source": [
    "import collections\n",
    "\n",
    "f_counter = collections.Counter(f_values)\n",
    "\n",
    "s_counter = collections.Counter(s_values)"
   ]
  },
  {
   "cell_type": "code",
   "execution_count": 14,
   "metadata": {},
   "outputs": [
    {
     "data": {
      "text/html": [
       "<div>\n",
       "<style scoped>\n",
       "    .dataframe tbody tr th:only-of-type {\n",
       "        vertical-align: middle;\n",
       "    }\n",
       "\n",
       "    .dataframe tbody tr th {\n",
       "        vertical-align: top;\n",
       "    }\n",
       "\n",
       "    .dataframe thead th {\n",
       "        text-align: right;\n",
       "    }\n",
       "</style>\n",
       "<table border=\"1\" class=\"dataframe\">\n",
       "  <thead>\n",
       "    <tr style=\"text-align: right;\">\n",
       "      <th></th>\n",
       "      <th>id</th>\n",
       "      <th>dates</th>\n",
       "      <th>values</th>\n",
       "      <th>label</th>\n",
       "      <th>ts_start_date</th>\n",
       "    </tr>\n",
       "  </thead>\n",
       "  <tbody>\n",
       "    <tr>\n",
       "      <th>0</th>\n",
       "      <td>19114</td>\n",
       "      <td>[2016-01-01, 2016-02-01, 2016-03-01, 2016-04-0...</td>\n",
       "      <td>[-1.86, 0.79, 1.4, 0.15, 0.0, -1.24, -1.46, 3....</td>\n",
       "      <td>0.0</td>\n",
       "      <td>2016-01-01</td>\n",
       "    </tr>\n",
       "    <tr>\n",
       "      <th>1</th>\n",
       "      <td>22769</td>\n",
       "      <td>[2016-05-01, 2016-06-01, 2016-07-01, 2016-08-0...</td>\n",
       "      <td>[-1.04, -3.48, 0.05, -0.13, -0.01, 0.03, 0.27,...</td>\n",
       "      <td>1.0</td>\n",
       "      <td>2016-05-01</td>\n",
       "    </tr>\n",
       "    <tr>\n",
       "      <th>2</th>\n",
       "      <td>76935</td>\n",
       "      <td>[2017-03-01, 2017-04-01, 2017-05-01, 2017-06-0...</td>\n",
       "      <td>[0.28, 0.63, 0.06, 0.96, -1.4, -0.3, 1.62, 1.1...</td>\n",
       "      <td>0.0</td>\n",
       "      <td>2017-03-01</td>\n",
       "    </tr>\n",
       "    <tr>\n",
       "      <th>3</th>\n",
       "      <td>66297</td>\n",
       "      <td>[2016-01-01, 2016-02-01, 2016-03-01, 2016-04-0...</td>\n",
       "      <td>[-0.33, 0.58, 1.1, -0.56, -0.95, -0.61, -0.7, ...</td>\n",
       "      <td>0.0</td>\n",
       "      <td>2016-01-01</td>\n",
       "    </tr>\n",
       "    <tr>\n",
       "      <th>4</th>\n",
       "      <td>2191</td>\n",
       "      <td>[2016-01-01, 2016-02-01, 2016-03-01, 2016-04-0...</td>\n",
       "      <td>[1.31, 0.5, -0.54, 0.95, 0.65, 0.83, -1.55, -0...</td>\n",
       "      <td>0.0</td>\n",
       "      <td>2016-01-01</td>\n",
       "    </tr>\n",
       "    <tr>\n",
       "      <th>...</th>\n",
       "      <td>...</td>\n",
       "      <td>...</td>\n",
       "      <td>...</td>\n",
       "      <td>...</td>\n",
       "      <td>...</td>\n",
       "    </tr>\n",
       "    <tr>\n",
       "      <th>79995</th>\n",
       "      <td>71474</td>\n",
       "      <td>[2018-10-01, 2018-11-01, 2018-12-01, 2019-01-0...</td>\n",
       "      <td>[-0.15, -1.13, -0.87, 0.49, 0.87, 1.67, 1.91, ...</td>\n",
       "      <td>0.0</td>\n",
       "      <td>2018-10-01</td>\n",
       "    </tr>\n",
       "    <tr>\n",
       "      <th>79996</th>\n",
       "      <td>36908</td>\n",
       "      <td>[2016-07-01, 2016-08-01, 2016-09-01, 2016-10-0...</td>\n",
       "      <td>[-0.35, -1.31, 0.11, 1.46, 1.28, 1.12, 1.78, 1...</td>\n",
       "      <td>1.0</td>\n",
       "      <td>2016-07-01</td>\n",
       "    </tr>\n",
       "    <tr>\n",
       "      <th>79997</th>\n",
       "      <td>63517</td>\n",
       "      <td>[2016-03-01, 2016-04-01, 2016-05-01, 2016-06-0...</td>\n",
       "      <td>[-0.78, -2.27, -1.85, -0.67, -1.2, -2.02, 0.12...</td>\n",
       "      <td>0.0</td>\n",
       "      <td>2016-03-01</td>\n",
       "    </tr>\n",
       "    <tr>\n",
       "      <th>79998</th>\n",
       "      <td>94731</td>\n",
       "      <td>[2016-02-01, 2016-03-01, 2016-04-01, 2016-05-0...</td>\n",
       "      <td>[-2.29, -2.85, 0.92, -0.83, -1.75, -1.81, -2.2...</td>\n",
       "      <td>0.0</td>\n",
       "      <td>2016-02-01</td>\n",
       "    </tr>\n",
       "    <tr>\n",
       "      <th>79999</th>\n",
       "      <td>98870</td>\n",
       "      <td>[2016-01-01, 2016-02-01, 2016-03-01, 2016-04-0...</td>\n",
       "      <td>[0.12, -0.8, 1.62, 0.11, -0.38, -0.86, -0.85, ...</td>\n",
       "      <td>1.0</td>\n",
       "      <td>2016-01-01</td>\n",
       "    </tr>\n",
       "  </tbody>\n",
       "</table>\n",
       "<p>80000 rows × 5 columns</p>\n",
       "</div>"
      ],
      "text/plain": [
       "          id                                              dates  \\\n",
       "0      19114  [2016-01-01, 2016-02-01, 2016-03-01, 2016-04-0...   \n",
       "1      22769  [2016-05-01, 2016-06-01, 2016-07-01, 2016-08-0...   \n",
       "2      76935  [2017-03-01, 2017-04-01, 2017-05-01, 2017-06-0...   \n",
       "3      66297  [2016-01-01, 2016-02-01, 2016-03-01, 2016-04-0...   \n",
       "4       2191  [2016-01-01, 2016-02-01, 2016-03-01, 2016-04-0...   \n",
       "...      ...                                                ...   \n",
       "79995  71474  [2018-10-01, 2018-11-01, 2018-12-01, 2019-01-0...   \n",
       "79996  36908  [2016-07-01, 2016-08-01, 2016-09-01, 2016-10-0...   \n",
       "79997  63517  [2016-03-01, 2016-04-01, 2016-05-01, 2016-06-0...   \n",
       "79998  94731  [2016-02-01, 2016-03-01, 2016-04-01, 2016-05-0...   \n",
       "79999  98870  [2016-01-01, 2016-02-01, 2016-03-01, 2016-04-0...   \n",
       "\n",
       "                                                  values  label ts_start_date  \n",
       "0      [-1.86, 0.79, 1.4, 0.15, 0.0, -1.24, -1.46, 3....    0.0    2016-01-01  \n",
       "1      [-1.04, -3.48, 0.05, -0.13, -0.01, 0.03, 0.27,...    1.0    2016-05-01  \n",
       "2      [0.28, 0.63, 0.06, 0.96, -1.4, -0.3, 1.62, 1.1...    0.0    2017-03-01  \n",
       "3      [-0.33, 0.58, 1.1, -0.56, -0.95, -0.61, -0.7, ...    0.0    2016-01-01  \n",
       "4      [1.31, 0.5, -0.54, 0.95, 0.65, 0.83, -1.55, -0...    0.0    2016-01-01  \n",
       "...                                                  ...    ...           ...  \n",
       "79995  [-0.15, -1.13, -0.87, 0.49, 0.87, 1.67, 1.91, ...    0.0    2018-10-01  \n",
       "79996  [-0.35, -1.31, 0.11, 1.46, 1.28, 1.12, 1.78, 1...    1.0    2016-07-01  \n",
       "79997  [-0.78, -2.27, -1.85, -0.67, -1.2, -2.02, 0.12...    0.0    2016-03-01  \n",
       "79998  [-2.29, -2.85, 0.92, -0.83, -1.75, -1.81, -2.2...    0.0    2016-02-01  \n",
       "79999  [0.12, -0.8, 1.62, 0.11, -0.38, -0.86, -0.85, ...    1.0    2016-01-01  \n",
       "\n",
       "[80000 rows x 5 columns]"
      ]
     },
     "execution_count": 14,
     "metadata": {},
     "output_type": "execute_result"
    }
   ],
   "source": [
    "train_df"
   ]
  },
  {
   "cell_type": "code",
   "execution_count": 12,
   "metadata": {},
   "outputs": [
    {
     "ename": "TypeError",
     "evalue": "unhashable type: 'numpy.ndarray'",
     "output_type": "error",
     "traceback": [
      "\u001b[0;31m---------------------------------------------------------------------------\u001b[0m",
      "\u001b[0;31mTypeError\u001b[0m                                 Traceback (most recent call last)",
      "Cell \u001b[0;32mIn[12], line 1\u001b[0m\n\u001b[0;32m----> 1\u001b[0m train_df[train_df[\u001b[38;5;124m'\u001b[39m\u001b[38;5;124mvalues\u001b[39m\u001b[38;5;124m'\u001b[39m]][\u001b[38;5;124m'\u001b[39m\u001b[38;5;124mvalues\u001b[39m\u001b[38;5;124m'\u001b[39m]\u001b[38;5;241m.\u001b[39mapply(\u001b[38;5;28;01mlambda\u001b[39;00m x: \u001b[38;5;28mlen\u001b[39m(x))\n\u001b[1;32m      3\u001b[0m plt\u001b[38;5;241m.\u001b[39mscatter(x\u001b[38;5;241m=\u001b[39mtrain_df[\u001b[38;5;124m'\u001b[39m\u001b[38;5;124mvalues\u001b[39m\u001b[38;5;124m'\u001b[39m]\u001b[38;5;241m.\u001b[39mapply(\u001b[38;5;28;01mlambda\u001b[39;00m x: \u001b[38;5;28mlen\u001b[39m(x)), y\u001b[38;5;241m=\u001b[39mtrain_df[\u001b[38;5;124m'\u001b[39m\u001b[38;5;124mlabel\u001b[39m\u001b[38;5;124m'\u001b[39m])\n",
      "File \u001b[0;32m/opt/anaconda3/lib/python3.11/site-packages/pandas/core/frame.py:4108\u001b[0m, in \u001b[0;36mDataFrame.__getitem__\u001b[0;34m(self, key)\u001b[0m\n\u001b[1;32m   4106\u001b[0m     \u001b[38;5;28;01mif\u001b[39;00m is_iterator(key):\n\u001b[1;32m   4107\u001b[0m         key \u001b[38;5;241m=\u001b[39m \u001b[38;5;28mlist\u001b[39m(key)\n\u001b[0;32m-> 4108\u001b[0m     indexer \u001b[38;5;241m=\u001b[39m \u001b[38;5;28mself\u001b[39m\u001b[38;5;241m.\u001b[39mcolumns\u001b[38;5;241m.\u001b[39m_get_indexer_strict(key, \u001b[38;5;124m\"\u001b[39m\u001b[38;5;124mcolumns\u001b[39m\u001b[38;5;124m\"\u001b[39m)[\u001b[38;5;241m1\u001b[39m]\n\u001b[1;32m   4110\u001b[0m \u001b[38;5;66;03m# take() does not accept boolean indexers\u001b[39;00m\n\u001b[1;32m   4111\u001b[0m \u001b[38;5;28;01mif\u001b[39;00m \u001b[38;5;28mgetattr\u001b[39m(indexer, \u001b[38;5;124m\"\u001b[39m\u001b[38;5;124mdtype\u001b[39m\u001b[38;5;124m\"\u001b[39m, \u001b[38;5;28;01mNone\u001b[39;00m) \u001b[38;5;241m==\u001b[39m \u001b[38;5;28mbool\u001b[39m:\n",
      "File \u001b[0;32m/opt/anaconda3/lib/python3.11/site-packages/pandas/core/indexes/base.py:6195\u001b[0m, in \u001b[0;36mIndex._get_indexer_strict\u001b[0;34m(self, key, axis_name)\u001b[0m\n\u001b[1;32m   6192\u001b[0m     keyarr \u001b[38;5;241m=\u001b[39m com\u001b[38;5;241m.\u001b[39masarray_tuplesafe(keyarr)\n\u001b[1;32m   6194\u001b[0m \u001b[38;5;28;01mif\u001b[39;00m \u001b[38;5;28mself\u001b[39m\u001b[38;5;241m.\u001b[39m_index_as_unique:\n\u001b[0;32m-> 6195\u001b[0m     indexer \u001b[38;5;241m=\u001b[39m \u001b[38;5;28mself\u001b[39m\u001b[38;5;241m.\u001b[39mget_indexer_for(keyarr)\n\u001b[1;32m   6196\u001b[0m     keyarr \u001b[38;5;241m=\u001b[39m \u001b[38;5;28mself\u001b[39m\u001b[38;5;241m.\u001b[39mreindex(keyarr)[\u001b[38;5;241m0\u001b[39m]\n\u001b[1;32m   6197\u001b[0m \u001b[38;5;28;01melse\u001b[39;00m:\n",
      "File \u001b[0;32m/opt/anaconda3/lib/python3.11/site-packages/pandas/core/indexes/base.py:6182\u001b[0m, in \u001b[0;36mIndex.get_indexer_for\u001b[0;34m(self, target)\u001b[0m\n\u001b[1;32m   6164\u001b[0m \u001b[38;5;250m\u001b[39m\u001b[38;5;124;03m\"\"\"\u001b[39;00m\n\u001b[1;32m   6165\u001b[0m \u001b[38;5;124;03mGuaranteed return of an indexer even when non-unique.\u001b[39;00m\n\u001b[1;32m   6166\u001b[0m \n\u001b[0;32m   (...)\u001b[0m\n\u001b[1;32m   6179\u001b[0m \u001b[38;5;124;03marray([0, 2])\u001b[39;00m\n\u001b[1;32m   6180\u001b[0m \u001b[38;5;124;03m\"\"\"\u001b[39;00m\n\u001b[1;32m   6181\u001b[0m \u001b[38;5;28;01mif\u001b[39;00m \u001b[38;5;28mself\u001b[39m\u001b[38;5;241m.\u001b[39m_index_as_unique:\n\u001b[0;32m-> 6182\u001b[0m     \u001b[38;5;28;01mreturn\u001b[39;00m \u001b[38;5;28mself\u001b[39m\u001b[38;5;241m.\u001b[39mget_indexer(target)\n\u001b[1;32m   6183\u001b[0m indexer, _ \u001b[38;5;241m=\u001b[39m \u001b[38;5;28mself\u001b[39m\u001b[38;5;241m.\u001b[39mget_indexer_non_unique(target)\n\u001b[1;32m   6184\u001b[0m \u001b[38;5;28;01mreturn\u001b[39;00m indexer\n",
      "File \u001b[0;32m/opt/anaconda3/lib/python3.11/site-packages/pandas/core/indexes/base.py:3953\u001b[0m, in \u001b[0;36mIndex.get_indexer\u001b[0;34m(self, target, method, limit, tolerance)\u001b[0m\n\u001b[1;32m   3948\u001b[0m     target \u001b[38;5;241m=\u001b[39m target\u001b[38;5;241m.\u001b[39mastype(dtype, copy\u001b[38;5;241m=\u001b[39m\u001b[38;5;28;01mFalse\u001b[39;00m)\n\u001b[1;32m   3949\u001b[0m     \u001b[38;5;28;01mreturn\u001b[39;00m this\u001b[38;5;241m.\u001b[39m_get_indexer(\n\u001b[1;32m   3950\u001b[0m         target, method\u001b[38;5;241m=\u001b[39mmethod, limit\u001b[38;5;241m=\u001b[39mlimit, tolerance\u001b[38;5;241m=\u001b[39mtolerance\n\u001b[1;32m   3951\u001b[0m     )\n\u001b[0;32m-> 3953\u001b[0m \u001b[38;5;28;01mreturn\u001b[39;00m \u001b[38;5;28mself\u001b[39m\u001b[38;5;241m.\u001b[39m_get_indexer(target, method, limit, tolerance)\n",
      "File \u001b[0;32m/opt/anaconda3/lib/python3.11/site-packages/pandas/core/indexes/base.py:3980\u001b[0m, in \u001b[0;36mIndex._get_indexer\u001b[0;34m(self, target, method, limit, tolerance)\u001b[0m\n\u001b[1;32m   3977\u001b[0m     \u001b[38;5;28;01melse\u001b[39;00m:\n\u001b[1;32m   3978\u001b[0m         tgt_values \u001b[38;5;241m=\u001b[39m target\u001b[38;5;241m.\u001b[39m_get_engine_target()\n\u001b[0;32m-> 3980\u001b[0m     indexer \u001b[38;5;241m=\u001b[39m \u001b[38;5;28mself\u001b[39m\u001b[38;5;241m.\u001b[39m_engine\u001b[38;5;241m.\u001b[39mget_indexer(tgt_values)\n\u001b[1;32m   3982\u001b[0m \u001b[38;5;28;01mreturn\u001b[39;00m ensure_platform_int(indexer)\n",
      "File \u001b[0;32mindex.pyx:351\u001b[0m, in \u001b[0;36mpandas._libs.index.IndexEngine.get_indexer\u001b[0;34m()\u001b[0m\n",
      "File \u001b[0;32mpandas/_libs/hashtable_class_helper.pxi:7132\u001b[0m, in \u001b[0;36mpandas._libs.hashtable.PyObjectHashTable.lookup\u001b[0;34m()\u001b[0m\n",
      "\u001b[0;31mTypeError\u001b[0m: unhashable type: 'numpy.ndarray'"
     ]
    }
   ],
   "source": [
    "train_df[train_df['values']]['values'].apply(lambda x: len(x))\n",
    "\n",
    "plt.scatter(x=train_df['values'].apply(lambda x: len(x)), y=train_df['label'])"
   ]
  },
  {
   "cell_type": "code",
   "execution_count": 39,
   "metadata": {},
   "outputs": [
    {
     "data": {
      "image/png": "[encoded data removed]",
      "text/plain": [
       "<Figure size 640x480 with 1 Axes>"
      ]
     },
     "metadata": {},
     "output_type": "display_data"
    }
   ],
   "source": [
    "# Группируем данные по date и label, подсчитываем количество\n",
    "grouped_train = train_df.groupby(['ts_start_date']).size()\n",
    "grouped_test = test_df.groupby(['ts_start_date']).size()\n",
    "\n",
    "# Строим график\n",
    "grouped_train.plot(kind='hist', label=\"train\", bins=100)\n",
    "grouped_test.plot(kind='hist', label=\"test\", bins=100)\n",
    "\n",
    "plt.xlabel('Date')\n",
    "plt.ylabel('Count')\n",
    "plt.title('Label distribution by Date')\n",
    "plt.xticks(rotation=45)\n",
    "\n",
    "plt.legend()\n",
    "plt.tight_layout()  # Чтобы подогнать разметку\n",
    "plt.show()"
   ]
  },
  {
   "cell_type": "code",
   "execution_count": 17,
   "metadata": {},
   "outputs": [],
   "source": [
    "import numpy as np"
   ]
  },
  {
   "cell_type": "code",
   "execution_count": 18,
   "metadata": {},
   "outputs": [],
   "source": [
    "def extract_fft_features(signal):\n",
    "    \"\"\"Extracts magnitude of FFT as features.\"\"\"\n",
    "    fft_values = np.fft.fft(signal)\n",
    "    magnitudes = np.abs(fft_values)\n",
    "    return magnitudes[:len(magnitudes)//2]  # Use only first half (positive frequencies)"
   ]
  },
  {
   "cell_type": "code",
   "execution_count": 19,
   "metadata": {},
   "outputs": [],
   "source": [
    "train_df['frequencies'] = train_df['values'].apply(extract_fft_features)"
   ]
  },
  {
   "cell_type": "code",
   "execution_count": 20,
   "metadata": {},
   "outputs": [],
   "source": [
    "test_df['frequencies'] = test_df['values'].apply(extract_fft_features)"
   ]
  },
  {
   "cell_type": "code",
   "execution_count": 21,
   "metadata": {},
   "outputs": [
    {
     "data": {
      "text/plain": [
       "<Axes: >"
      ]
     },
     "execution_count": 21,
     "metadata": {},
     "output_type": "execute_result"
    },
    {
     "data": {
      "image/png": "[encoded data removed]",
      "text/plain": [
       "<Figure size 640x480 with 1 Axes>"
      ]
     },
     "metadata": {},
     "output_type": "display_data"
    }
   ],
   "source": [
    "test_df['frequencies'].apply(lambda x: np.array(x).mean()).hist(bins=100)\n",
    "train_df[train_df['label'] == 0]['frequencies'].apply(lambda x: np.array(x).mean()).hist(bins=100)\n",
    "train_df[train_df['label'] == 1]['frequencies'].apply(lambda x: np.array(x).mean()).hist(bins=100)\n",
    "\n",
    "test_df['frequencies'].apply(lambda x: np.array(x).mean()).hist(bins=100)\n"
   ]
  },
  {
   "cell_type": "code",
   "execution_count": 22,
   "metadata": {},
   "outputs": [
    {
     "data": {
      "image/png": "[encoded data removed]",
      "text/plain": [
       "<Figure size 640x480 with 1 Axes>"
      ]
     },
     "metadata": {},
     "output_type": "display_data"
    }
   ],
   "source": [
    "plt.hist(train_df['label'], color='skyblue')\n",
    "\n",
    "plt.grid()\n",
    "plt.show()"
   ]
  },
  {
   "cell_type": "markdown",
   "metadata": {},
   "source": [
    "В тренировочном наборе данных есть дисбаланс классов. Учтём это при построении кросс-валидации."
   ]
  },
  {
   "cell_type": "markdown",
   "metadata": {},
   "source": [
    "### Частотное распределение временных рядов\n",
    "\n",
    "Для начала перейдем "
   ]
  },
  {
   "cell_type": "code",
   "execution_count": 23,
   "metadata": {},
   "outputs": [],
   "source": [
    "train_df['mean_ts_value'] = train_df['values'].apply(lambda x: np.array(x).mean())"
   ]
  },
  {
   "cell_type": "code",
   "execution_count": 24,
   "metadata": {},
   "outputs": [],
   "source": [
    "train_df['std_ts_value'] = train_df['values'].apply(lambda x: np.array(x).std())"
   ]
  },
  {
   "cell_type": "code",
   "execution_count": 25,
   "metadata": {},
   "outputs": [],
   "source": [
    "train_df['max_ts_value'] = train_df['values'].apply(lambda x: np.array(x).max())\n",
    "train_df['min_ts_value'] = train_df['values'].apply(lambda x: np.array(x).min())"
   ]
  },
  {
   "cell_type": "code",
   "execution_count": 42,
   "metadata": {},
   "outputs": [],
   "source": [
    "train_df['std_mul_mean'] =  train_df['mean_ts_value'] / train_df['std_ts_value']"
   ]
  },
  {
   "cell_type": "code",
   "execution_count": 43,
   "metadata": {},
   "outputs": [
    {
     "data": {
      "text/plain": [
       "<Axes: >"
      ]
     },
     "execution_count": 43,
     "metadata": {},
     "output_type": "execute_result"
    },
    {
     "data": {
      "image/png": "[encoded data removed]",
      "text/plain": [
       "<Figure size 640x480 with 1 Axes>"
      ]
     },
     "metadata": {},
     "output_type": "display_data"
    }
   ],
   "source": [
    "train_df['std_mul_mean'].hist(bins=1000)"
   ]
  },
  {
   "cell_type": "code",
   "execution_count": 44,
   "metadata": {},
   "outputs": [
    {
     "data": {
      "text/html": [
       "<div>\n",
       "<style scoped>\n",
       "    .dataframe tbody tr th:only-of-type {\n",
       "        vertical-align: middle;\n",
       "    }\n",
       "\n",
       "    .dataframe tbody tr th {\n",
       "        vertical-align: top;\n",
       "    }\n",
       "\n",
       "    .dataframe thead th {\n",
       "        text-align: right;\n",
       "    }\n",
       "</style>\n",
       "<table border=\"1\" class=\"dataframe\">\n",
       "  <thead>\n",
       "    <tr style=\"text-align: right;\">\n",
       "      <th></th>\n",
       "      <th>id</th>\n",
       "      <th>dates</th>\n",
       "      <th>values</th>\n",
       "      <th>label</th>\n",
       "      <th>ts_start_date</th>\n",
       "      <th>frequencies</th>\n",
       "      <th>mean_ts_value</th>\n",
       "      <th>std_ts_value</th>\n",
       "      <th>max_ts_value</th>\n",
       "      <th>min_ts_value</th>\n",
       "      <th>std_mul_mean</th>\n",
       "      <th>max_freq</th>\n",
       "      <th>min_freq</th>\n",
       "    </tr>\n",
       "  </thead>\n",
       "  <tbody>\n",
       "    <tr>\n",
       "      <th>0</th>\n",
       "      <td>19114</td>\n",
       "      <td>[2016-01-01, 2016-02-01, 2016-03-01, 2016-04-0...</td>\n",
       "      <td>[-1.86, 0.79, 1.4, 0.15, 0.0, -1.24, -1.46, 3....</td>\n",
       "      <td>0.0</td>\n",
       "      <td>2016-01-01</td>\n",
       "      <td>[1.4700000000000015, 11.30893234913658, 4.4849...</td>\n",
       "      <td>0.023710</td>\n",
       "      <td>1.337272</td>\n",
       "      <td>3.49</td>\n",
       "      <td>-4.840000</td>\n",
       "      <td>0.017730</td>\n",
       "      <td>20.405218</td>\n",
       "      <td>0.836869</td>\n",
       "    </tr>\n",
       "    <tr>\n",
       "      <th>1</th>\n",
       "      <td>22769</td>\n",
       "      <td>[2016-05-01, 2016-06-01, 2016-07-01, 2016-08-0...</td>\n",
       "      <td>[-1.04, -3.48, 0.05, -0.13, -0.01, 0.03, 0.27,...</td>\n",
       "      <td>1.0</td>\n",
       "      <td>2016-05-01</td>\n",
       "      <td>[13.984957017678555, 19.890792462687223, 9.176...</td>\n",
       "      <td>-0.310777</td>\n",
       "      <td>1.556337</td>\n",
       "      <td>2.92</td>\n",
       "      <td>-3.534409</td>\n",
       "      <td>-0.199685</td>\n",
       "      <td>19.890792</td>\n",
       "      <td>3.326871</td>\n",
       "    </tr>\n",
       "    <tr>\n",
       "      <th>2</th>\n",
       "      <td>76935</td>\n",
       "      <td>[2017-03-01, 2017-04-01, 2017-05-01, 2017-06-0...</td>\n",
       "      <td>[0.28, 0.63, 0.06, 0.96, -1.4, -0.3, 1.62, 1.1...</td>\n",
       "      <td>0.0</td>\n",
       "      <td>2017-03-01</td>\n",
       "      <td>[2.210000000000001, 20.514391558737533, 5.3759...</td>\n",
       "      <td>-0.046042</td>\n",
       "      <td>1.065023</td>\n",
       "      <td>2.61</td>\n",
       "      <td>-1.950000</td>\n",
       "      <td>-0.043231</td>\n",
       "      <td>20.514392</td>\n",
       "      <td>1.068315</td>\n",
       "    </tr>\n",
       "    <tr>\n",
       "      <th>3</th>\n",
       "      <td>66297</td>\n",
       "      <td>[2016-01-01, 2016-02-01, 2016-03-01, 2016-04-0...</td>\n",
       "      <td>[-0.33, 0.58, 1.1, -0.56, -0.95, -0.61, -0.7, ...</td>\n",
       "      <td>0.0</td>\n",
       "      <td>2016-01-01</td>\n",
       "      <td>[6.24, 30.75772108580178, 4.1312753467152845, ...</td>\n",
       "      <td>-0.130000</td>\n",
       "      <td>1.158201</td>\n",
       "      <td>2.49</td>\n",
       "      <td>-2.220000</td>\n",
       "      <td>-0.112243</td>\n",
       "      <td>30.757721</td>\n",
       "      <td>0.320216</td>\n",
       "    </tr>\n",
       "    <tr>\n",
       "      <th>4</th>\n",
       "      <td>2191</td>\n",
       "      <td>[2016-01-01, 2016-02-01, 2016-03-01, 2016-04-0...</td>\n",
       "      <td>[1.31, 0.5, -0.54, 0.95, 0.65, 0.83, -1.55, -0...</td>\n",
       "      <td>0.0</td>\n",
       "      <td>2016-01-01</td>\n",
       "      <td>[15.15, 5.319691984766741, 2.669083302096537, ...</td>\n",
       "      <td>-0.270536</td>\n",
       "      <td>1.270529</td>\n",
       "      <td>2.87</td>\n",
       "      <td>-2.500000</td>\n",
       "      <td>-0.212932</td>\n",
       "      <td>21.570369</td>\n",
       "      <td>0.406369</td>\n",
       "    </tr>\n",
       "    <tr>\n",
       "      <th>...</th>\n",
       "      <td>...</td>\n",
       "      <td>...</td>\n",
       "      <td>...</td>\n",
       "      <td>...</td>\n",
       "      <td>...</td>\n",
       "      <td>...</td>\n",
       "      <td>...</td>\n",
       "      <td>...</td>\n",
       "      <td>...</td>\n",
       "      <td>...</td>\n",
       "      <td>...</td>\n",
       "      <td>...</td>\n",
       "      <td>...</td>\n",
       "    </tr>\n",
       "    <tr>\n",
       "      <th>79995</th>\n",
       "      <td>71474</td>\n",
       "      <td>[2018-10-01, 2018-11-01, 2018-12-01, 2019-01-0...</td>\n",
       "      <td>[-0.15, -1.13, -0.87, 0.49, 0.87, 1.67, 1.91, ...</td>\n",
       "      <td>0.0</td>\n",
       "      <td>2018-10-01</td>\n",
       "      <td>[9.010000000000003, 9.352903249911247, 5.75793...</td>\n",
       "      <td>0.163818</td>\n",
       "      <td>1.303965</td>\n",
       "      <td>2.56</td>\n",
       "      <td>-3.640000</td>\n",
       "      <td>0.125631</td>\n",
       "      <td>16.522092</td>\n",
       "      <td>0.963164</td>\n",
       "    </tr>\n",
       "    <tr>\n",
       "      <th>79996</th>\n",
       "      <td>36908</td>\n",
       "      <td>[2016-07-01, 2016-08-01, 2016-09-01, 2016-10-0...</td>\n",
       "      <td>[-0.35, -1.31, 0.11, 1.46, 1.28, 1.12, 1.78, 1...</td>\n",
       "      <td>1.0</td>\n",
       "      <td>2016-07-01</td>\n",
       "      <td>[5.9654298836029405, 2.288811735954563, 8.0122...</td>\n",
       "      <td>-0.112555</td>\n",
       "      <td>1.216413</td>\n",
       "      <td>2.16</td>\n",
       "      <td>-2.590000</td>\n",
       "      <td>-0.092531</td>\n",
       "      <td>23.811466</td>\n",
       "      <td>2.132321</td>\n",
       "    </tr>\n",
       "    <tr>\n",
       "      <th>79997</th>\n",
       "      <td>63517</td>\n",
       "      <td>[2016-03-01, 2016-04-01, 2016-05-01, 2016-06-0...</td>\n",
       "      <td>[-0.78, -2.27, -1.85, -0.67, -1.2, -2.02, 0.12...</td>\n",
       "      <td>0.0</td>\n",
       "      <td>2016-03-01</td>\n",
       "      <td>[10.27, 25.38055443408125, 12.00595968191802, ...</td>\n",
       "      <td>-0.201373</td>\n",
       "      <td>1.182551</td>\n",
       "      <td>2.27</td>\n",
       "      <td>-2.890000</td>\n",
       "      <td>-0.170287</td>\n",
       "      <td>25.380554</td>\n",
       "      <td>1.445251</td>\n",
       "    </tr>\n",
       "    <tr>\n",
       "      <th>79998</th>\n",
       "      <td>94731</td>\n",
       "      <td>[2016-02-01, 2016-03-01, 2016-04-01, 2016-05-0...</td>\n",
       "      <td>[-2.29, -2.85, 0.92, -0.83, -1.75, -1.81, -2.2...</td>\n",
       "      <td>0.0</td>\n",
       "      <td>2016-02-01</td>\n",
       "      <td>[4.750000000000001, 12.969496110159241, 2.5794...</td>\n",
       "      <td>-0.075397</td>\n",
       "      <td>1.491254</td>\n",
       "      <td>3.11</td>\n",
       "      <td>-2.850000</td>\n",
       "      <td>-0.050559</td>\n",
       "      <td>31.562023</td>\n",
       "      <td>2.579450</td>\n",
       "    </tr>\n",
       "    <tr>\n",
       "      <th>79999</th>\n",
       "      <td>98870</td>\n",
       "      <td>[2016-01-01, 2016-02-01, 2016-03-01, 2016-04-0...</td>\n",
       "      <td>[0.12, -0.8, 1.62, 0.11, -0.38, -0.86, -0.85, ...</td>\n",
       "      <td>1.0</td>\n",
       "      <td>2016-01-01</td>\n",
       "      <td>[14.006405263996943, 23.580273819208337, 5.286...</td>\n",
       "      <td>-0.274635</td>\n",
       "      <td>1.407661</td>\n",
       "      <td>2.87</td>\n",
       "      <td>-3.050000</td>\n",
       "      <td>-0.195101</td>\n",
       "      <td>24.446008</td>\n",
       "      <td>1.651795</td>\n",
       "    </tr>\n",
       "  </tbody>\n",
       "</table>\n",
       "<p>80000 rows × 13 columns</p>\n",
       "</div>"
      ],
      "text/plain": [
       "          id                                              dates  \\\n",
       "0      19114  [2016-01-01, 2016-02-01, 2016-03-01, 2016-04-0...   \n",
       "1      22769  [2016-05-01, 2016-06-01, 2016-07-01, 2016-08-0...   \n",
       "2      76935  [2017-03-01, 2017-04-01, 2017-05-01, 2017-06-0...   \n",
       "3      66297  [2016-01-01, 2016-02-01, 2016-03-01, 2016-04-0...   \n",
       "4       2191  [2016-01-01, 2016-02-01, 2016-03-01, 2016-04-0...   \n",
       "...      ...                                                ...   \n",
       "79995  71474  [2018-10-01, 2018-11-01, 2018-12-01, 2019-01-0...   \n",
       "79996  36908  [2016-07-01, 2016-08-01, 2016-09-01, 2016-10-0...   \n",
       "79997  63517  [2016-03-01, 2016-04-01, 2016-05-01, 2016-06-0...   \n",
       "79998  94731  [2016-02-01, 2016-03-01, 2016-04-01, 2016-05-0...   \n",
       "79999  98870  [2016-01-01, 2016-02-01, 2016-03-01, 2016-04-0...   \n",
       "\n",
       "                                                  values  label ts_start_date  \\\n",
       "0      [-1.86, 0.79, 1.4, 0.15, 0.0, -1.24, -1.46, 3....    0.0    2016-01-01   \n",
       "1      [-1.04, -3.48, 0.05, -0.13, -0.01, 0.03, 0.27,...    1.0    2016-05-01   \n",
       "2      [0.28, 0.63, 0.06, 0.96, -1.4, -0.3, 1.62, 1.1...    0.0    2017-03-01   \n",
       "3      [-0.33, 0.58, 1.1, -0.56, -0.95, -0.61, -0.7, ...    0.0    2016-01-01   \n",
       "4      [1.31, 0.5, -0.54, 0.95, 0.65, 0.83, -1.55, -0...    0.0    2016-01-01   \n",
       "...                                                  ...    ...           ...   \n",
       "79995  [-0.15, -1.13, -0.87, 0.49, 0.87, 1.67, 1.91, ...    0.0    2018-10-01   \n",
       "79996  [-0.35, -1.31, 0.11, 1.46, 1.28, 1.12, 1.78, 1...    1.0    2016-07-01   \n",
       "79997  [-0.78, -2.27, -1.85, -0.67, -1.2, -2.02, 0.12...    0.0    2016-03-01   \n",
       "79998  [-2.29, -2.85, 0.92, -0.83, -1.75, -1.81, -2.2...    0.0    2016-02-01   \n",
       "79999  [0.12, -0.8, 1.62, 0.11, -0.38, -0.86, -0.85, ...    1.0    2016-01-01   \n",
       "\n",
       "                                             frequencies  mean_ts_value  \\\n",
       "0      [1.4700000000000015, 11.30893234913658, 4.4849...       0.023710   \n",
       "1      [13.984957017678555, 19.890792462687223, 9.176...      -0.310777   \n",
       "2      [2.210000000000001, 20.514391558737533, 5.3759...      -0.046042   \n",
       "3      [6.24, 30.75772108580178, 4.1312753467152845, ...      -0.130000   \n",
       "4      [15.15, 5.319691984766741, 2.669083302096537, ...      -0.270536   \n",
       "...                                                  ...            ...   \n",
       "79995  [9.010000000000003, 9.352903249911247, 5.75793...       0.163818   \n",
       "79996  [5.9654298836029405, 2.288811735954563, 8.0122...      -0.112555   \n",
       "79997  [10.27, 25.38055443408125, 12.00595968191802, ...      -0.201373   \n",
       "79998  [4.750000000000001, 12.969496110159241, 2.5794...      -0.075397   \n",
       "79999  [14.006405263996943, 23.580273819208337, 5.286...      -0.274635   \n",
       "\n",
       "       std_ts_value  max_ts_value  min_ts_value  std_mul_mean   max_freq  \\\n",
       "0          1.337272          3.49     -4.840000      0.017730  20.405218   \n",
       "1          1.556337          2.92     -3.534409     -0.199685  19.890792   \n",
       "2          1.065023          2.61     -1.950000     -0.043231  20.514392   \n",
       "3          1.158201          2.49     -2.220000     -0.112243  30.757721   \n",
       "4          1.270529          2.87     -2.500000     -0.212932  21.570369   \n",
       "...             ...           ...           ...           ...        ...   \n",
       "79995      1.303965          2.56     -3.640000      0.125631  16.522092   \n",
       "79996      1.216413          2.16     -2.590000     -0.092531  23.811466   \n",
       "79997      1.182551          2.27     -2.890000     -0.170287  25.380554   \n",
       "79998      1.491254          3.11     -2.850000     -0.050559  31.562023   \n",
       "79999      1.407661          2.87     -3.050000     -0.195101  24.446008   \n",
       "\n",
       "       min_freq  \n",
       "0      0.836869  \n",
       "1      3.326871  \n",
       "2      1.068315  \n",
       "3      0.320216  \n",
       "4      0.406369  \n",
       "...         ...  \n",
       "79995  0.963164  \n",
       "79996  2.132321  \n",
       "79997  1.445251  \n",
       "79998  2.579450  \n",
       "79999  1.651795  \n",
       "\n",
       "[80000 rows x 13 columns]"
      ]
     },
     "execution_count": 44,
     "metadata": {},
     "output_type": "execute_result"
    }
   ],
   "source": [
    "train_df"
   ]
  },
  {
   "cell_type": "code",
   "execution_count": 45,
   "metadata": {},
   "outputs": [],
   "source": [
    "train_df['max_freq'] = train_df['frequencies'].apply(lambda x: np.array(x).max())"
   ]
  },
  {
   "cell_type": "code",
   "execution_count": 46,
   "metadata": {},
   "outputs": [
    {
     "data": {
      "text/plain": [
       "<Axes: >"
      ]
     },
     "execution_count": 46,
     "metadata": {},
     "output_type": "execute_result"
    },
    {
     "data": {
      "image/png": "[encoded data removed]",
      "text/plain": [
       "<Figure size 640x480 with 1 Axes>"
      ]
     },
     "metadata": {},
     "output_type": "display_data"
    }
   ],
   "source": [
    "train_df['max_freq'].hist(bins=1000)"
   ]
  },
  {
   "cell_type": "code",
   "execution_count": 47,
   "metadata": {},
   "outputs": [],
   "source": [
    "train_df['min_freq'] = train_df['frequencies'].apply(lambda x: np.array(x).min())\n",
    "\n"
   ]
  },
  {
   "cell_type": "code",
   "execution_count": 48,
   "metadata": {},
   "outputs": [],
   "source": [
    "final_train_df = train_df[['mean_ts_value', 'std_ts_value','max_ts_value', 'min_ts_value', 'max_freq', 'min_freq', 'ts_start_date', 'std_mul_mean', 'label']].copy()\n",
    "final_train_df['ts_start_date'] = final_train_df['ts_start_date'].astype(str)"
   ]
  },
  {
   "cell_type": "markdown",
   "metadata": {},
   "source": [
    "#### Подбор гиперпараметров модели"
   ]
  },
  {
   "cell_type": "code",
   "execution_count": 49,
   "metadata": {},
   "outputs": [
    {
     "data": {
      "text/plain": [
       "0.832410106659531"
      ]
     },
     "execution_count": 49,
     "metadata": {},
     "output_type": "execute_result"
    }
   ],
   "source": [
    "from sklearn.model_selection import StratifiedKFold\n",
    "from sklearn.metrics import roc_auc_score\n",
    "from catboost import CatBoostClassifier\n",
    "\n",
    "X = final_train_df.drop(['label'], axis=1)\n",
    "y = final_train_df['label']\n",
    "\n",
    "def objective(trial):\n",
    "    skf = StratifiedKFold(n_splits=5, shuffle=True, random_state=42)\n",
    "    params = {}\n",
    "\n",
    "    roc_aucs = []\n",
    "    for train_index, test_index in skf.split(X=X, y=y):\n",
    "\n",
    "        X_train, X_test = X.iloc[train_index], X.iloc[test_index]\n",
    "        y_train, y_test = y.iloc[train_index], y.iloc[test_index]\n",
    "        \n",
    "        clf = CatBoostClassifier()\n",
    "        clf.fit(X=X_train, \n",
    "                y=y_train, \n",
    "                eval_set=(X_test, y_test), \n",
    "                use_best_model=True,\n",
    "                cat_features=['ts_start_date'],\n",
    "                verbose=0)\n",
    "        \n",
    "        y_pred_prob = clf.predict_proba(X_test)\n",
    "        roc_aucs.append(roc_auc_score(y_true=y_test, y_score=y_pred_prob[:, 1]))\n",
    "\n",
    "    roc_aucs = np.array(roc_aucs)\n",
    "    return roc_aucs.mean() - roc_aucs.std()\n",
    "\n",
    "objective(None)"
   ]
  },
  {
   "cell_type": "code",
   "execution_count": null,
   "metadata": {},
   "outputs": [],
   "source": [
    "import optuna\n",
    "\n",
    "study = optuna.create_study()"
   ]
  },
  {
   "cell_type": "code",
   "execution_count": 50,
   "metadata": {},
   "outputs": [],
   "source": [
    "X = final_train_df.drop(['label'], axis=1)\n",
    "y = final_train_df['label']\n",
    "\n",
    "from sklearn.model_selection import train_test_split\n",
    "\n",
    "X_train, X_test, y_train, y_test = train_test_split(X, y, train_size=0.9, random_state=42)"
   ]
  },
  {
   "cell_type": "code",
   "execution_count": 51,
   "metadata": {},
   "outputs": [
    {
     "data": {
      "text/plain": [
       "<catboost.core.CatBoostClassifier at 0x34a9d14d0>"
      ]
     },
     "execution_count": 51,
     "metadata": {},
     "output_type": "execute_result"
    }
   ],
   "source": [
    "clf = CatBoostClassifier()\n",
    "clf.fit(X=X_train, \n",
    "                y=y_train, \n",
    "                eval_set=(X_test, y_test), \n",
    "                use_best_model=True,\n",
    "                cat_features=['ts_start_date'],\n",
    "                verbose=0)"
   ]
  },
  {
   "cell_type": "code",
   "execution_count": 52,
   "metadata": {},
   "outputs": [],
   "source": [
    "import matplotlib.pyplot as plt\n",
    "import numpy as np\n",
    "from sklearn import metrics\n",
    "\n",
    "y = y_test\n",
    "pred = clf.predict_proba(X_test)[:, 1]\n",
    "\n",
    "fpr, tpr, thresholds = metrics.roc_curve(y, pred)\n",
    "roc_auc = metrics.auc(fpr, tpr)\n",
    "display = metrics.RocCurveDisplay(fpr=fpr, tpr=tpr, roc_auc=roc_auc,\n",
    "                                  estimator_name='Final estimator')"
   ]
  },
  {
   "cell_type": "code",
   "execution_count": 53,
   "metadata": {},
   "outputs": [
    {
     "data": {
      "image/png": "[encoded data removed]",
      "text/plain": [
       "<Figure size 640x480 with 1 Axes>"
      ]
     },
     "metadata": {},
     "output_type": "display_data"
    }
   ],
   "source": [
    "display.plot()\n",
    "plt.show()"
   ]
  },
  {
   "cell_type": "markdown",
   "metadata": {},
   "source": [
    "#### Формируем посылку"
   ]
  },
  {
   "cell_type": "code",
   "execution_count": 161,
   "metadata": {},
   "outputs": [],
   "source": [
    "test_df['ts_start_date'] = test_df['ts_start_date'].astype(str)\n",
    "test_df['mean_ts_value'] = test_df['values'].apply(lambda x: np.array(x).mean())\n",
    "test_df['std_ts_value'] = test_df['values'].apply(lambda x: np.array(x).std())\n",
    "test_df['max_ts_value'] = test_df['values'].apply(lambda x: np.array(x).max())\n",
    "test_df['min_ts_value'] = test_df['values'].apply(lambda x: np.array(x).min())\n",
    "test_df['max_freq'] = test_df['frequencies'].apply(lambda x: np.array(x).max())\n",
    "test_df['min_freq'] = test_df['frequencies'].apply(lambda x: np.array(x).min())\n",
    "\n",
    "ids = test_df['id']\n",
    "final_test_X = test_df[['mean_ts_value', 'std_ts_value','max_ts_value', 'min_ts_value', 'max_freq', 'min_freq', 'ts_start_date']]"
   ]
  },
  {
   "cell_type": "code",
   "execution_count": 185,
   "metadata": {},
   "outputs": [],
   "source": [
    "submission = pd.read_csv('sample_submission.csv')\n",
    "submission['id'] = ids\n",
    "submission['score'] = clf.predict_proba(final_test_X)[:, 1]\n",
    "submission.to_csv('submission.csv', index=False)"
   ]
  }
 ],
 "metadata": {
  "kernelspec": {
   "display_name": "base",
   "language": "python",
   "name": "python3"
  },
  "language_info": {
   "codemirror_mode": {
    "name": "ipython",
    "version": 3
   },
   "file_extension": ".py",
   "mimetype": "text/x-python",
   "name": "python",
   "nbconvert_exporter": "python",
   "pygments_lexer": "ipython3",
   "version": "3.11.8"
  }
 },
 "nbformat": 4,
 "nbformat_minor": 2
}
