{
 "cells": [
  {
   "cell_type": "code",
   "execution_count": 9,
   "metadata": {},
   "outputs": [],
   "source": [
    "import pandas as pd\n",
    "import numpy as np"
   ]
  },
  {
   "cell_type": "code",
   "execution_count": 30,
   "metadata": {},
   "outputs": [],
   "source": [
    "test_df = pd.read_parquet('test.parquet')"
   ]
  },
  {
   "cell_type": "code",
   "execution_count": 31,
   "metadata": {},
   "outputs": [],
   "source": [
    "test_df['ts_start_date'] = test_df['dates'].apply(lambda x: x[0])\n",
    "test_df['mean'] = test_df['values'].apply(lambda x: x.mean())\n",
    "test_df['var'] = test_df['values'].apply(lambda x: x.var())\n",
    "test_df['max'] = test_df['values'].apply(lambda x: x.max())\n",
    "\n",
    "fft = test_df['values'].apply(lambda x: np.fft.fft(x))\n",
    "\n",
    "for i in range(5):\n",
    "    test_df[f'f_coeff_{i}_real'] = fft.apply(lambda x: x[i].real)\n",
    "    test_df[f'f_coeff_{i}_imag'] = fft.apply(lambda x: x[i].imag)\n",
    "    test_df[f'f_coeff_{i}_angle'] = fft.apply(lambda x: np.angle(x[i]))\n"
   ]
  },
  {
   "cell_type": "markdown",
   "metadata": {},
   "source": [
    "#### Загрузка модели"
   ]
  },
  {
   "cell_type": "code",
   "execution_count": 32,
   "metadata": {},
   "outputs": [
    {
     "data": {
      "text/plain": [
       "<catboost.core.CatBoostClassifier at 0x3213083d0>"
      ]
     },
     "execution_count": 32,
     "metadata": {},
     "output_type": "execute_result"
    }
   ],
   "source": [
    "from catboost import CatBoostClassifier\n",
    "\n",
    "clf = CatBoostClassifier(cat_features=['ts_start_date'])\n",
    "clf.load_model(\"trained_model\")"
   ]
  },
  {
   "cell_type": "code",
   "execution_count": 51,
   "metadata": {},
   "outputs": [],
   "source": [
    "exclude_features = ['id', 'values', 'dates', 'f_coeff_0_real']\n",
    "\n",
    "cat_features = ['ts_start_date']\n",
    "\n",
    "\n",
    "\n",
    "submission = pd.read_csv('sample_submission.csv')\n",
    "\n",
    "final_df = submission[['id']].merge(test_df, on=\"id\", how=\"left\").drop(exclude_features, axis=1)\n",
    "final_df['ts_start_date'] = final_df['ts_start_date'].astype(str)"
   ]
  },
  {
   "cell_type": "markdown",
   "metadata": {},
   "source": [
    "#### Формируем файл с предсказаниями"
   ]
  },
  {
   "cell_type": "code",
   "execution_count": 52,
   "metadata": {},
   "outputs": [],
   "source": [
    "submission['score'] = clf.predict_proba(final_df)[:, 1]\n",
    "submission.to_csv('submission.csv', index=False)"
   ]
  },
  {
   "cell_type": "code",
   "execution_count": null,
   "metadata": {},
   "outputs": [],
   "source": []
  }
 ],
 "metadata": {
  "kernelspec": {
   "display_name": "base",
   "language": "python",
   "name": "python3"
  },
  "language_info": {
   "codemirror_mode": {
    "name": "ipython",
    "version": 3
   },
   "file_extension": ".py",
   "mimetype": "text/x-python",
   "name": "python",
   "nbconvert_exporter": "python",
   "pygments_lexer": "ipython3",
   "version": "3.11.8"
  }
 },
 "nbformat": 4,
 "nbformat_minor": 2
}
